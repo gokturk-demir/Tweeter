{
 "cells": [
  {
   "cell_type": "markdown",
   "metadata": {},
   "source": [
    "# Step 1\n",
    "Clean and prepare the data\n"
   ]
  },
  {
   "cell_type": "code",
   "execution_count": 153,
   "metadata": {},
   "outputs": [],
   "source": [
    "# import necessary python modules for analysis\n",
    "import pandas as pd\n",
    "import numpy as np\n",
    "from sklearn import preprocessing\n",
    "import matplotlib.pyplot as plt\n",
    "from sklearn.model_selection import train_test_split,cross_val_score, cross_val_predict\n",
    "\n",
    "from sklearn.ensemble import GradientBoostingRegressor\n",
    "from sklearn.linear_model import LinearRegression\n",
    "from sklearn.tree import DecisionTreeRegressor\n",
    "from sklearn.ensemble import RandomForestRegressor\n",
    "from sklearn.model_selection import train_test_split\n",
    "from sklearn.metrics import mean_squared_error as MSE\n",
    "from sklearn.metrics import accuracy_score\n",
    "from sklearn.model_selection import cross_val_score\n",
    "from sklearn import metrics"
   ]
  },
  {
   "cell_type": "code",
   "execution_count": 154,
   "metadata": {},
   "outputs": [
    {
     "name": "stderr",
     "output_type": "stream",
     "text": [
      "C:\\Users\\Gokturk\\Anaconda3\\lib\\site-packages\\IPython\\core\\interactiveshell.py:2785: DtypeWarning: Columns (15) have mixed types. Specify dtype option on import or set low_memory=False.\n",
      "  interactivity=interactivity, compiler=compiler, result=result)\n"
     ]
    }
   ],
   "source": [
    "# import data via pandas module\n",
    "\n",
    "train = pd.read_csv(\"Data for Cleaning & Modeling.csv\")\n",
    "test = pd.read_csv(\"Holdout for Testing.csv\")"
   ]
  },
  {
   "cell_type": "code",
   "execution_count": 155,
   "metadata": {
    "scrolled": false
   },
   "outputs": [
    {
     "data": {
      "text/html": [
       "<div>\n",
       "<style scoped>\n",
       "    .dataframe tbody tr th:only-of-type {\n",
       "        vertical-align: middle;\n",
       "    }\n",
       "\n",
       "    .dataframe tbody tr th {\n",
       "        vertical-align: top;\n",
       "    }\n",
       "\n",
       "    .dataframe thead th {\n",
       "        text-align: right;\n",
       "    }\n",
       "</style>\n",
       "<table border=\"1\" class=\"dataframe\">\n",
       "  <thead>\n",
       "    <tr style=\"text-align: right;\">\n",
       "      <th></th>\n",
       "      <th>X1</th>\n",
       "      <th>X2</th>\n",
       "      <th>X3</th>\n",
       "      <th>X4</th>\n",
       "      <th>X5</th>\n",
       "      <th>X6</th>\n",
       "      <th>X7</th>\n",
       "      <th>X8</th>\n",
       "      <th>X9</th>\n",
       "      <th>X10</th>\n",
       "      <th>...</th>\n",
       "      <th>X23</th>\n",
       "      <th>X24</th>\n",
       "      <th>X25</th>\n",
       "      <th>X26</th>\n",
       "      <th>X27</th>\n",
       "      <th>X28</th>\n",
       "      <th>X29</th>\n",
       "      <th>X30</th>\n",
       "      <th>X31</th>\n",
       "      <th>X32</th>\n",
       "    </tr>\n",
       "  </thead>\n",
       "  <tbody>\n",
       "    <tr>\n",
       "      <th>0</th>\n",
       "      <td>11.89%</td>\n",
       "      <td>54734.0</td>\n",
       "      <td>80364.0</td>\n",
       "      <td>$25,000</td>\n",
       "      <td>$25,000</td>\n",
       "      <td>$19,080</td>\n",
       "      <td>36 months</td>\n",
       "      <td>B</td>\n",
       "      <td>B4</td>\n",
       "      <td>NaN</td>\n",
       "      <td>...</td>\n",
       "      <td>Feb-94</td>\n",
       "      <td>0.0</td>\n",
       "      <td>NaN</td>\n",
       "      <td>NaN</td>\n",
       "      <td>10.0</td>\n",
       "      <td>0.0</td>\n",
       "      <td>28854.0</td>\n",
       "      <td>52.10%</td>\n",
       "      <td>42.0</td>\n",
       "      <td>f</td>\n",
       "    </tr>\n",
       "    <tr>\n",
       "      <th>1</th>\n",
       "      <td>10.71%</td>\n",
       "      <td>55742.0</td>\n",
       "      <td>114426.0</td>\n",
       "      <td>$7,000</td>\n",
       "      <td>$7,000</td>\n",
       "      <td>$673</td>\n",
       "      <td>36 months</td>\n",
       "      <td>B</td>\n",
       "      <td>B5</td>\n",
       "      <td>CNN</td>\n",
       "      <td>...</td>\n",
       "      <td>Oct-00</td>\n",
       "      <td>0.0</td>\n",
       "      <td>NaN</td>\n",
       "      <td>NaN</td>\n",
       "      <td>7.0</td>\n",
       "      <td>0.0</td>\n",
       "      <td>33623.0</td>\n",
       "      <td>76.70%</td>\n",
       "      <td>7.0</td>\n",
       "      <td>f</td>\n",
       "    </tr>\n",
       "    <tr>\n",
       "      <th>2</th>\n",
       "      <td>16.99%</td>\n",
       "      <td>57167.0</td>\n",
       "      <td>137225.0</td>\n",
       "      <td>$25,000</td>\n",
       "      <td>$25,000</td>\n",
       "      <td>$24,725</td>\n",
       "      <td>36 months</td>\n",
       "      <td>D</td>\n",
       "      <td>D3</td>\n",
       "      <td>Web Programmer</td>\n",
       "      <td>...</td>\n",
       "      <td>Jun-00</td>\n",
       "      <td>0.0</td>\n",
       "      <td>41.0</td>\n",
       "      <td>NaN</td>\n",
       "      <td>10.0</td>\n",
       "      <td>0.0</td>\n",
       "      <td>19878.0</td>\n",
       "      <td>66.30%</td>\n",
       "      <td>17.0</td>\n",
       "      <td>f</td>\n",
       "    </tr>\n",
       "    <tr>\n",
       "      <th>3</th>\n",
       "      <td>13.11%</td>\n",
       "      <td>57245.0</td>\n",
       "      <td>138150.0</td>\n",
       "      <td>$1,200</td>\n",
       "      <td>$1,200</td>\n",
       "      <td>$1,200</td>\n",
       "      <td>36 months</td>\n",
       "      <td>C</td>\n",
       "      <td>C2</td>\n",
       "      <td>city of beaumont texas</td>\n",
       "      <td>...</td>\n",
       "      <td>Jan-85</td>\n",
       "      <td>0.0</td>\n",
       "      <td>64.0</td>\n",
       "      <td>NaN</td>\n",
       "      <td>5.0</td>\n",
       "      <td>0.0</td>\n",
       "      <td>2584.0</td>\n",
       "      <td>40.40%</td>\n",
       "      <td>31.0</td>\n",
       "      <td>f</td>\n",
       "    </tr>\n",
       "    <tr>\n",
       "      <th>4</th>\n",
       "      <td>13.57%</td>\n",
       "      <td>57416.0</td>\n",
       "      <td>139635.0</td>\n",
       "      <td>$10,800</td>\n",
       "      <td>$10,800</td>\n",
       "      <td>$10,692</td>\n",
       "      <td>36 months</td>\n",
       "      <td>C</td>\n",
       "      <td>C3</td>\n",
       "      <td>State Farm Insurance</td>\n",
       "      <td>...</td>\n",
       "      <td>Dec-96</td>\n",
       "      <td>1.0</td>\n",
       "      <td>58.0</td>\n",
       "      <td>NaN</td>\n",
       "      <td>14.0</td>\n",
       "      <td>0.0</td>\n",
       "      <td>3511.0</td>\n",
       "      <td>25.60%</td>\n",
       "      <td>40.0</td>\n",
       "      <td>f</td>\n",
       "    </tr>\n",
       "  </tbody>\n",
       "</table>\n",
       "<p>5 rows × 32 columns</p>\n",
       "</div>"
      ],
      "text/plain": [
       "       X1       X2        X3       X4       X5       X6          X7 X8  X9  \\\n",
       "0  11.89%  54734.0   80364.0  $25,000  $25,000  $19,080   36 months  B  B4   \n",
       "1  10.71%  55742.0  114426.0   $7,000   $7,000     $673   36 months  B  B5   \n",
       "2  16.99%  57167.0  137225.0  $25,000  $25,000  $24,725   36 months  D  D3   \n",
       "3  13.11%  57245.0  138150.0   $1,200   $1,200   $1,200   36 months  C  C2   \n",
       "4  13.57%  57416.0  139635.0  $10,800  $10,800  $10,692   36 months  C  C3   \n",
       "\n",
       "                      X10 ...     X23  X24   X25 X26   X27  X28      X29  \\\n",
       "0                     NaN ...  Feb-94  0.0   NaN NaN  10.0  0.0  28854.0   \n",
       "1                     CNN ...  Oct-00  0.0   NaN NaN   7.0  0.0  33623.0   \n",
       "2          Web Programmer ...  Jun-00  0.0  41.0 NaN  10.0  0.0  19878.0   \n",
       "3  city of beaumont texas ...  Jan-85  0.0  64.0 NaN   5.0  0.0   2584.0   \n",
       "4    State Farm Insurance ...  Dec-96  1.0  58.0 NaN  14.0  0.0   3511.0   \n",
       "\n",
       "      X30   X31 X32  \n",
       "0  52.10%  42.0   f  \n",
       "1  76.70%   7.0   f  \n",
       "2  66.30%  17.0   f  \n",
       "3  40.40%  31.0   f  \n",
       "4  25.60%  40.0   f  \n",
       "\n",
       "[5 rows x 32 columns]"
      ]
     },
     "execution_count": 155,
     "metadata": {},
     "output_type": "execute_result"
    }
   ],
   "source": [
    "train.head()"
   ]
  },
  {
   "cell_type": "code",
   "execution_count": 156,
   "metadata": {},
   "outputs": [
    {
     "data": {
      "text/plain": [
       "((400000, 32), (80000, 32))"
      ]
     },
     "execution_count": 156,
     "metadata": {},
     "output_type": "execute_result"
    }
   ],
   "source": [
    "train.shape, test.shape"
   ]
  },
  {
   "cell_type": "code",
   "execution_count": 157,
   "metadata": {},
   "outputs": [
    {
     "name": "stdout",
     "output_type": "stream",
     "text": [
      "['X1', 'X2', 'X3', 'X4', 'X5', 'X6', 'X7', 'X8', 'X9', 'X10', 'X11', 'X12', 'X13', 'X14', 'X15', 'X16', 'X17', 'X18', 'X19', 'X20', 'X21', 'X22', 'X23', 'X24', 'X25', 'X26', 'X27', 'X28', 'X29', 'X30', 'X31', 'X32']\n"
     ]
    }
   ],
   "source": [
    "print(list(train.columns))"
   ]
  },
  {
   "cell_type": "code",
   "execution_count": 158,
   "metadata": {
    "scrolled": true
   },
   "outputs": [
    {
     "name": "stdout",
     "output_type": "stream",
     "text": [
      "<class 'pandas.core.frame.DataFrame'>\n",
      "RangeIndex: 400000 entries, 0 to 399999\n",
      "Data columns (total 32 columns):\n",
      "X1     338990 non-null object\n",
      "X2     399999 non-null float64\n",
      "X3     399999 non-null float64\n",
      "X4     399999 non-null object\n",
      "X5     399999 non-null object\n",
      "X6     399999 non-null object\n",
      "X7     399999 non-null object\n",
      "X8     338730 non-null object\n",
      "X9     338730 non-null object\n",
      "X10    376014 non-null object\n",
      "X11    382462 non-null object\n",
      "X12    338639 non-null object\n",
      "X13    338972 non-null float64\n",
      "X14    399999 non-null object\n",
      "X15    399999 non-null object\n",
      "X16    123560 non-null object\n",
      "X17    399999 non-null object\n",
      "X18    399981 non-null object\n",
      "X19    399999 non-null object\n",
      "X20    399999 non-null object\n",
      "X21    399999 non-null float64\n",
      "X22    399999 non-null float64\n",
      "X23    399999 non-null object\n",
      "X24    399999 non-null float64\n",
      "X25    181198 non-null float64\n",
      "X26    51155 non-null float64\n",
      "X27    399999 non-null float64\n",
      "X28    399999 non-null float64\n",
      "X29    399999 non-null float64\n",
      "X30    399733 non-null object\n",
      "X31    399999 non-null float64\n",
      "X32    399999 non-null object\n",
      "dtypes: float64(12), object(20)\n",
      "memory usage: 97.7+ MB\n"
     ]
    }
   ],
   "source": [
    "train.info()"
   ]
  },
  {
   "cell_type": "code",
   "execution_count": 159,
   "metadata": {},
   "outputs": [
    {
     "name": "stdout",
     "output_type": "stream",
     "text": [
      "<class 'pandas.core.frame.DataFrame'>\n",
      "RangeIndex: 80000 entries, 0 to 79999\n",
      "Data columns (total 32 columns):\n",
      "X1     0 non-null float64\n",
      "X2     80000 non-null int64\n",
      "X3     80000 non-null int64\n",
      "X4     80000 non-null object\n",
      "X5     80000 non-null object\n",
      "X6     80000 non-null object\n",
      "X7     80000 non-null object\n",
      "X8     80000 non-null object\n",
      "X9     80000 non-null object\n",
      "X10    75606 non-null object\n",
      "X11    75618 non-null object\n",
      "X12    80000 non-null object\n",
      "X13    80000 non-null float64\n",
      "X14    80000 non-null object\n",
      "X15    80000 non-null object\n",
      "X16    15 non-null object\n",
      "X17    80000 non-null object\n",
      "X18    80000 non-null object\n",
      "X19    80000 non-null object\n",
      "X20    80000 non-null object\n",
      "X21    80000 non-null float64\n",
      "X22    80000 non-null int64\n",
      "X23    80000 non-null object\n",
      "X24    80000 non-null int64\n",
      "X25    41296 non-null float64\n",
      "X26    13839 non-null float64\n",
      "X27    80000 non-null int64\n",
      "X28    80000 non-null int64\n",
      "X29    80000 non-null int64\n",
      "X30    79970 non-null object\n",
      "X31    80000 non-null int64\n",
      "X32    80000 non-null object\n",
      "dtypes: float64(5), int64(8), object(19)\n",
      "memory usage: 19.5+ MB\n"
     ]
    }
   ],
   "source": [
    "test.info()"
   ]
  },
  {
   "cell_type": "code",
   "execution_count": 160,
   "metadata": {},
   "outputs": [],
   "source": [
    "# X2 and X3 columns are the ID numbers, so they shouldn't effect how the interest rate is determined\n",
    "#so we can drop them .We will keep X2 for test .\n",
    "\n",
    "train.drop(['X2', 'X3'], axis=1, inplace=True)\n",
    "test.drop(['X3'], axis=1, inplace=True)"
   ]
  },
  {
   "cell_type": "code",
   "execution_count": 161,
   "metadata": {},
   "outputs": [],
   "source": [
    "# Column X10-Borrower-provided job title has many missing  values.This info might not be that \n",
    "#useful to the model,so we can remove this from both the test and training data set.\n",
    "\n",
    "train.drop(['X10'], axis=1, inplace=True)\n",
    "test.drop(['X10'], axis=1, inplace=True)"
   ]
  },
  {
   "cell_type": "code",
   "execution_count": 162,
   "metadata": {},
   "outputs": [],
   "source": [
    "# Column X11-Number of years employed has missing values.This info might not be that \n",
    "#useful to the model,so we can remove this from both the test and training data set.\n",
    "\n",
    "test.drop(['X11'], axis=1, inplace=True)\n",
    "train.drop(['X11'], axis=1, inplace=True)"
   ]
  },
  {
   "cell_type": "code",
   "execution_count": 163,
   "metadata": {},
   "outputs": [],
   "source": [
    "# Column X13- Annual Income-  has missing values.It might not be a good idea to remove the column \n",
    "#all together as annual income is an important factor as a criteria for a loan, so we can just \n",
    "#remove rows with missing values.\n",
    "\n",
    "train.dropna(subset=['X13'], inplace=True)\n",
    "test.dropna(subset=['X13'], inplace=True)"
   ]
  },
  {
   "cell_type": "code",
   "execution_count": 164,
   "metadata": {},
   "outputs": [],
   "source": [
    "# Column X15- Date loan was issued-does not provide with any useful information for predicting the\n",
    "#loan rate.We can remove this column.\n",
    "\n",
    "test.drop(['X15'], axis=1, inplace=True)\n",
    "train.drop(['X15'], axis=1, inplace=True)"
   ]
  },
  {
   "cell_type": "code",
   "execution_count": 165,
   "metadata": {},
   "outputs": [],
   "source": [
    "# Column X16-Reason for loan provided by borrower-has a lot of missing values, this information\n",
    "#shouldn't effect how the interest rate is determined so we can drop this from both sets\n",
    "\n",
    "train.drop(['X16'], axis=1, inplace=True)\n",
    "test.drop(['X16'], axis=1, inplace=True)"
   ]
  },
  {
   "cell_type": "code",
   "execution_count": 166,
   "metadata": {},
   "outputs": [],
   "source": [
    "# Column X17-Loan category, as provided by borrower- is an information which wouldn't affect\n",
    "#the predicted loan rate, so we can remove it fom both sets.\n",
    "\n",
    "train.drop(['X17'], axis=1, inplace=True)\n",
    "test.drop(['X17'], axis=1, inplace=True)"
   ]
  },
  {
   "cell_type": "code",
   "execution_count": 167,
   "metadata": {},
   "outputs": [],
   "source": [
    "# Column X18- Loan Title-  is an information which wouldn't affect any prediction about the \n",
    "#predicted loan rate, so we can just remove it.\n",
    "\n",
    "train.drop(['X18'], axis=1, inplace=True)\n",
    "test.drop(['X18'], axis=1, inplace=True)"
   ]
  },
  {
   "cell_type": "code",
   "execution_count": 168,
   "metadata": {},
   "outputs": [],
   "source": [
    "# Column X20- State of borrower-  we already have a zip code column , so this info is redundant.\n",
    "#We can remove this column.\n",
    "\n",
    "#test.drop(['X20'], axis=1, inplace=True)\n",
    "#train.drop(['X20'], axis=1, inplace=True)"
   ]
  },
  {
   "cell_type": "code",
   "execution_count": 169,
   "metadata": {},
   "outputs": [],
   "source": [
    "# Column X23- Date the borrower's earliest reported credit line was opened-This column doesn't\n",
    "#provide with any useful data for predicting the loan rate, we can drop it.\n",
    "\n",
    "test.drop(['X23'], axis=1, inplace=True)\n",
    "train.drop(['X23'], axis=1, inplace=True)"
   ]
  },
  {
   "cell_type": "code",
   "execution_count": 170,
   "metadata": {},
   "outputs": [],
   "source": [
    "# Column X25 & X26 has many missing values. So we can remove these from both sets.\n",
    "\n",
    "train.drop(['X25'], axis=1, inplace=True)\n",
    "test.drop(['X25'], axis=1, inplace=True)\n",
    "train.drop(['X26'], axis=1, inplace=True)\n",
    "test.drop(['X26'], axis=1, inplace=True)"
   ]
  },
  {
   "cell_type": "code",
   "execution_count": 171,
   "metadata": {},
   "outputs": [],
   "source": [
    "# Column X30 Revolving line utilization rate has 267 missing values.\n",
    "#We can  delete these rows from both the training and the test sets.\n",
    "\n",
    "train.dropna(subset=['X30'], inplace=True)\n",
    "test.dropna(subset=['X30'], inplace=True)"
   ]
  },
  {
   "cell_type": "code",
   "execution_count": 172,
   "metadata": {},
   "outputs": [],
   "source": [
    "# Column 32 The initial listing status of the loan seems to be irrelevant to our prediction\n",
    "#so we can remove it.\n",
    "\n",
    "test.drop(['X32'], axis=1, inplace=True)\n",
    "train.drop(['X32'], axis=1, inplace=True)"
   ]
  },
  {
   "cell_type": "code",
   "execution_count": 173,
   "metadata": {},
   "outputs": [
    {
     "name": "stdout",
     "output_type": "stream",
     "text": [
      "['RENT' 'OWN' 'MORTGAGE' 'NONE' nan 'OTHER' 'ANY']\n"
     ]
    }
   ],
   "source": [
    "# Column 32  Home ownership has missing entries and also meaningless entries\n",
    "#such as none, nan, other, any .So we can remove this column.\n",
    "\n",
    "print(train.X12.unique())"
   ]
  },
  {
   "cell_type": "code",
   "execution_count": 174,
   "metadata": {},
   "outputs": [],
   "source": [
    "test.drop(['X12'], axis=1, inplace=True)\n",
    "train.drop(['X12'], axis=1, inplace=True)"
   ]
  },
  {
   "cell_type": "code",
   "execution_count": 175,
   "metadata": {},
   "outputs": [
    {
     "data": {
      "text/plain": [
       "((338750, 19), (79970, 20))"
      ]
     },
     "execution_count": 175,
     "metadata": {},
     "output_type": "execute_result"
    }
   ],
   "source": [
    "train.shape, test.shape"
   ]
  },
  {
   "cell_type": "code",
   "execution_count": 176,
   "metadata": {},
   "outputs": [
    {
     "name": "stdout",
     "output_type": "stream",
     "text": [
      "['X1', 'X4', 'X5', 'X6', 'X7', 'X8', 'X9', 'X13', 'X14', 'X19', 'X20', 'X21', 'X22', 'X24', 'X27', 'X28', 'X29', 'X30', 'X31']\n"
     ]
    }
   ],
   "source": [
    "print(list(train.columns))"
   ]
  },
  {
   "cell_type": "code",
   "execution_count": 177,
   "metadata": {},
   "outputs": [
    {
     "name": "stdout",
     "output_type": "stream",
     "text": [
      "['X1', 'X2', 'X4', 'X5', 'X6', 'X7', 'X8', 'X9', 'X13', 'X14', 'X19', 'X20', 'X21', 'X22', 'X24', 'X27', 'X28', 'X29', 'X30', 'X31']\n"
     ]
    }
   ],
   "source": [
    "print(list(test.columns))"
   ]
  },
  {
   "cell_type": "code",
   "execution_count": 178,
   "metadata": {},
   "outputs": [
    {
     "name": "stdout",
     "output_type": "stream",
     "text": [
      "<class 'pandas.core.frame.DataFrame'>\n",
      "Int64Index: 338750 entries, 0 to 399999\n",
      "Data columns (total 19 columns):\n",
      "X1     287050 non-null object\n",
      "X4     338750 non-null object\n",
      "X5     338750 non-null object\n",
      "X6     338750 non-null object\n",
      "X7     338750 non-null object\n",
      "X8     286713 non-null object\n",
      "X9     286713 non-null object\n",
      "X13    338750 non-null float64\n",
      "X14    338750 non-null object\n",
      "X19    338750 non-null object\n",
      "X20    338750 non-null object\n",
      "X21    338750 non-null float64\n",
      "X22    338750 non-null float64\n",
      "X24    338750 non-null float64\n",
      "X27    338750 non-null float64\n",
      "X28    338750 non-null float64\n",
      "X29    338750 non-null float64\n",
      "X30    338750 non-null object\n",
      "X31    338750 non-null float64\n",
      "dtypes: float64(8), object(11)\n",
      "memory usage: 51.7+ MB\n"
     ]
    }
   ],
   "source": [
    "train.info()"
   ]
  },
  {
   "cell_type": "code",
   "execution_count": 179,
   "metadata": {},
   "outputs": [],
   "source": [
    "# I will remove '$', '%' symbols, change the string data types to numeric and also \n",
    "#convert percentages to ratios by dividing by 100\n",
    "\n",
    "train['X1'] = pd.to_numeric(train['X1'].str.replace('%', ''))/100\n",
    "train['X4'] = train['X4'].str.replace('$', '')\n",
    "train['X4'] = pd.to_numeric(train['X4'].str.replace(',', ''))\n",
    "train['X5'] = train['X5'].str.replace('$', '')\n",
    "train['X5'] = pd.to_numeric(train['X5'].str.replace(',', ''))\n",
    "train['X6'] = train['X6'].str.replace('$', '')\n",
    "train['X6'] = pd.to_numeric(train['X6'].str.replace(',', ''))\n",
    "train['X7'] = pd.to_numeric(train['X7'].str.replace(' months', ''))\n",
    "train['X19'] = pd.to_numeric(train['X19'].str.replace('x', ''))\n",
    "train['X21'] = train['X21']/100 \n",
    "train['X13'] = train['X13'].astype(int)\n",
    "train['X22'] = train['X22'].astype(int)\n",
    "train['X24'] = train['X24'].astype(int) \n",
    "train['X27'] = train['X27'].astype(int)\n",
    "train['X28'] = train['X28'].astype(int) \n",
    "train['X29'] = train['X29'].astype(int) \n",
    "train['X30'] = train['X30'].str.replace('%', '')\n",
    "train['X30'] = pd.to_numeric(train['X30'].str.replace(',', ''))/100\n",
    "train['X31'] = train['X31'].astype(int) \n",
    "\n",
    "\n"
   ]
  },
  {
   "cell_type": "code",
   "execution_count": 180,
   "metadata": {},
   "outputs": [
    {
     "name": "stdout",
     "output_type": "stream",
     "text": [
      "['VERIFIED - income' 'not verified' 'VERIFIED - income source']\n"
     ]
    }
   ],
   "source": [
    "print(train.X14.unique())"
   ]
  },
  {
   "cell_type": "code",
   "execution_count": 181,
   "metadata": {},
   "outputs": [],
   "source": [
    "#I will replace  'VERIFIED - income source' and 'VERIFIED - income'values with 'verified'\n",
    "\n",
    "train['X14'].replace(to_replace=['VERIFIED - income', 'VERIFIED - income source'],value='verified',\n",
    "                      inplace=True)\n",
    "test['X14'].replace(to_replace=['VERIFIED - income', 'VERIFIED - income source'],value='verified',\n",
    "                      inplace=True)"
   ]
  },
  {
   "cell_type": "code",
   "execution_count": 182,
   "metadata": {},
   "outputs": [],
   "source": [
    "#I will now convert  verified/not verified categorical variables into numeric values\n",
    "verified = {\"not verified\": 0, \"verified\": 1}\n",
    "data = [train, test]\n",
    "\n",
    "for dataset in data:\n",
    "    dataset['X14'] = dataset['X14'].map(verified)"
   ]
  },
  {
   "cell_type": "code",
   "execution_count": 183,
   "metadata": {},
   "outputs": [],
   "source": [
    "#print(train.X8.unique())  "
   ]
  },
  {
   "cell_type": "code",
   "execution_count": 184,
   "metadata": {},
   "outputs": [],
   "source": [
    "#X8 Loan Grade  - convert categorical variables to numericals\n",
    "grades = {\"A\": 0, \"B\": 1, \"C\": 2, \"D\": 3, \"E\": 4, \"F\": 5, \"G\": 6}\n",
    "data = [train, test]\n",
    "\n",
    "for dataset in data:\n",
    "    dataset['X8'] = dataset['X8'].map(grades)\n",
    "train['X8'] = train['X8'].fillna(0)    \n",
    "train['X8'] = train['X8'].astype(int)\n",
    "test['X8'] = test['X8'].astype(int)"
   ]
  },
  {
   "cell_type": "code",
   "execution_count": 185,
   "metadata": {},
   "outputs": [],
   "source": [
    "#print(train.X9.unique())"
   ]
  },
  {
   "cell_type": "code",
   "execution_count": 186,
   "metadata": {},
   "outputs": [],
   "source": [
    "#X9 Loan Subgrade- convert categorical variables to numericals\n",
    "subgrades = {\"A1\": 0, \"A2\": 1, \"A3\": 2, \"A4\": 3, \"A5\": 4, \"B1\": 5, \"B2\": 6, \"B3\": 7, \"B4\": 8, \"B5\": 9,\n",
    "          \"C1\": 10, \"C2\": 11, \"C3\":12, \"C4\": 13, \"C5\":14 , \"D1\": 15, \"D2\": 16, \"D3\": 17, \"D4\": 18, \n",
    "          \"D5\": 19,\"E1\": 20, \"E2\": 21, \"E3\": 22, \"E4\": 23, \"E5\": 24, \"F1\": 25, \"F2\": 26, \"F3\": 27, \n",
    "          \"F4\": 28, \"F5\": 29, \"G1\": 30, \"G2\": 31, \"G3\": 32, \"G4\": 33, \"G5\": 34 }\n",
    "data = [train, test]\n",
    "\n",
    "\n",
    "for dataset in data:\n",
    "    dataset['X9'] = dataset['X9'].map(subgrades)\n",
    "    \n",
    "train['X9'] = train['X9'].fillna(0)\n",
    "train['X9'] = train['X9'].astype(int)\n",
    "test['X9'] = test['X9'].astype(int)"
   ]
  },
  {
   "cell_type": "code",
   "execution_count": 187,
   "metadata": {},
   "outputs": [],
   "source": [
    "# I will also do the necessary editing for test set."
   ]
  },
  {
   "cell_type": "code",
   "execution_count": 188,
   "metadata": {},
   "outputs": [],
   "source": [
    "test['X4'] = test['X4'].str.replace('$', '')\n",
    "test['X4'] = pd.to_numeric(test['X4'].str.replace(',', ''))"
   ]
  },
  {
   "cell_type": "code",
   "execution_count": 189,
   "metadata": {},
   "outputs": [],
   "source": [
    "test['X5'] = test['X5'].str.replace('$', '')\n",
    "test['X5'] = pd.to_numeric(test['X5'].str.replace(',', ''))"
   ]
  },
  {
   "cell_type": "code",
   "execution_count": 190,
   "metadata": {},
   "outputs": [],
   "source": [
    "test['X6'] = test['X6'].str.replace('$', '')\n",
    "test['X6'] = pd.to_numeric(test['X6'].str.replace(',', ''))"
   ]
  },
  {
   "cell_type": "code",
   "execution_count": 191,
   "metadata": {},
   "outputs": [],
   "source": [
    "test['X7'] = pd.to_numeric(test['X7'].str.replace(' months', ''))"
   ]
  },
  {
   "cell_type": "code",
   "execution_count": 192,
   "metadata": {},
   "outputs": [],
   "source": [
    "test['X19'] = pd.to_numeric(test['X19'].str.replace('x', ''))"
   ]
  },
  {
   "cell_type": "code",
   "execution_count": 193,
   "metadata": {},
   "outputs": [],
   "source": [
    "test['X21'] = test['X21']/100 # converting percentage to ratio"
   ]
  },
  {
   "cell_type": "code",
   "execution_count": 194,
   "metadata": {},
   "outputs": [],
   "source": [
    "test['X13'] = test['X13'].astype(int) # convert to interger type"
   ]
  },
  {
   "cell_type": "code",
   "execution_count": 195,
   "metadata": {},
   "outputs": [],
   "source": [
    "test['X30'] = test['X13'].astype(int)\n",
    "test['X30'] = test['X30']/100 # convert revolving utilization to ratio"
   ]
  },
  {
   "cell_type": "code",
   "execution_count": 196,
   "metadata": {},
   "outputs": [
    {
     "data": {
      "text/html": [
       "<div>\n",
       "<style scoped>\n",
       "    .dataframe tbody tr th:only-of-type {\n",
       "        vertical-align: middle;\n",
       "    }\n",
       "\n",
       "    .dataframe tbody tr th {\n",
       "        vertical-align: top;\n",
       "    }\n",
       "\n",
       "    .dataframe thead th {\n",
       "        text-align: right;\n",
       "    }\n",
       "</style>\n",
       "<table border=\"1\" class=\"dataframe\">\n",
       "  <thead>\n",
       "    <tr style=\"text-align: right;\">\n",
       "      <th></th>\n",
       "      <th>X1</th>\n",
       "      <th>X2</th>\n",
       "      <th>X4</th>\n",
       "      <th>X5</th>\n",
       "      <th>X6</th>\n",
       "      <th>X7</th>\n",
       "      <th>X8</th>\n",
       "      <th>X9</th>\n",
       "      <th>X13</th>\n",
       "      <th>X14</th>\n",
       "      <th>X19</th>\n",
       "      <th>X20</th>\n",
       "      <th>X21</th>\n",
       "      <th>X22</th>\n",
       "      <th>X24</th>\n",
       "      <th>X27</th>\n",
       "      <th>X28</th>\n",
       "      <th>X29</th>\n",
       "      <th>X30</th>\n",
       "      <th>X31</th>\n",
       "    </tr>\n",
       "  </thead>\n",
       "  <tbody>\n",
       "    <tr>\n",
       "      <th>0</th>\n",
       "      <td>NaN</td>\n",
       "      <td>44409194</td>\n",
       "      <td>6000</td>\n",
       "      <td>6000</td>\n",
       "      <td>6000</td>\n",
       "      <td>36</td>\n",
       "      <td>2</td>\n",
       "      <td>14</td>\n",
       "      <td>68000</td>\n",
       "      <td>1</td>\n",
       "      <td>430</td>\n",
       "      <td>OH</td>\n",
       "      <td>0.2831</td>\n",
       "      <td>0</td>\n",
       "      <td>1</td>\n",
       "      <td>18</td>\n",
       "      <td>0</td>\n",
       "      <td>19861</td>\n",
       "      <td>680.0</td>\n",
       "      <td>33</td>\n",
       "    </tr>\n",
       "    <tr>\n",
       "      <th>1</th>\n",
       "      <td>NaN</td>\n",
       "      <td>44017917</td>\n",
       "      <td>24000</td>\n",
       "      <td>24000</td>\n",
       "      <td>24000</td>\n",
       "      <td>36</td>\n",
       "      <td>0</td>\n",
       "      <td>0</td>\n",
       "      <td>110480</td>\n",
       "      <td>1</td>\n",
       "      <td>945</td>\n",
       "      <td>CA</td>\n",
       "      <td>0.1603</td>\n",
       "      <td>0</td>\n",
       "      <td>1</td>\n",
       "      <td>12</td>\n",
       "      <td>0</td>\n",
       "      <td>17001</td>\n",
       "      <td>1104.8</td>\n",
       "      <td>36</td>\n",
       "    </tr>\n",
       "    <tr>\n",
       "      <th>2</th>\n",
       "      <td>NaN</td>\n",
       "      <td>44259158</td>\n",
       "      <td>35000</td>\n",
       "      <td>35000</td>\n",
       "      <td>35000</td>\n",
       "      <td>36</td>\n",
       "      <td>2</td>\n",
       "      <td>11</td>\n",
       "      <td>86000</td>\n",
       "      <td>1</td>\n",
       "      <td>195</td>\n",
       "      <td>PA</td>\n",
       "      <td>0.3249</td>\n",
       "      <td>0</td>\n",
       "      <td>0</td>\n",
       "      <td>16</td>\n",
       "      <td>0</td>\n",
       "      <td>25797</td>\n",
       "      <td>860.0</td>\n",
       "      <td>33</td>\n",
       "    </tr>\n",
       "    <tr>\n",
       "      <th>3</th>\n",
       "      <td>NaN</td>\n",
       "      <td>44429213</td>\n",
       "      <td>10000</td>\n",
       "      <td>10000</td>\n",
       "      <td>10000</td>\n",
       "      <td>60</td>\n",
       "      <td>3</td>\n",
       "      <td>15</td>\n",
       "      <td>30000</td>\n",
       "      <td>1</td>\n",
       "      <td>921</td>\n",
       "      <td>CA</td>\n",
       "      <td>0.3296</td>\n",
       "      <td>0</td>\n",
       "      <td>1</td>\n",
       "      <td>13</td>\n",
       "      <td>1</td>\n",
       "      <td>9586</td>\n",
       "      <td>300.0</td>\n",
       "      <td>21</td>\n",
       "    </tr>\n",
       "    <tr>\n",
       "      <th>4</th>\n",
       "      <td>NaN</td>\n",
       "      <td>44299188</td>\n",
       "      <td>24000</td>\n",
       "      <td>24000</td>\n",
       "      <td>24000</td>\n",
       "      <td>60</td>\n",
       "      <td>1</td>\n",
       "      <td>5</td>\n",
       "      <td>82500</td>\n",
       "      <td>1</td>\n",
       "      <td>196</td>\n",
       "      <td>PA</td>\n",
       "      <td>0.3103</td>\n",
       "      <td>0</td>\n",
       "      <td>0</td>\n",
       "      <td>27</td>\n",
       "      <td>0</td>\n",
       "      <td>31842</td>\n",
       "      <td>825.0</td>\n",
       "      <td>43</td>\n",
       "    </tr>\n",
       "  </tbody>\n",
       "</table>\n",
       "</div>"
      ],
      "text/plain": [
       "   X1        X2     X4     X5     X6  X7  X8  X9     X13  X14  X19 X20  \\\n",
       "0 NaN  44409194   6000   6000   6000  36   2  14   68000    1  430  OH   \n",
       "1 NaN  44017917  24000  24000  24000  36   0   0  110480    1  945  CA   \n",
       "2 NaN  44259158  35000  35000  35000  36   2  11   86000    1  195  PA   \n",
       "3 NaN  44429213  10000  10000  10000  60   3  15   30000    1  921  CA   \n",
       "4 NaN  44299188  24000  24000  24000  60   1   5   82500    1  196  PA   \n",
       "\n",
       "      X21  X22  X24  X27  X28    X29     X30  X31  \n",
       "0  0.2831    0    1   18    0  19861   680.0   33  \n",
       "1  0.1603    0    1   12    0  17001  1104.8   36  \n",
       "2  0.3249    0    0   16    0  25797   860.0   33  \n",
       "3  0.3296    0    1   13    1   9586   300.0   21  \n",
       "4  0.3103    0    0   27    0  31842   825.0   43  "
      ]
     },
     "execution_count": 196,
     "metadata": {},
     "output_type": "execute_result"
    }
   ],
   "source": [
    "test.head()"
   ]
  },
  {
   "cell_type": "code",
   "execution_count": 197,
   "metadata": {},
   "outputs": [
    {
     "data": {
      "text/html": [
       "<div>\n",
       "<style scoped>\n",
       "    .dataframe tbody tr th:only-of-type {\n",
       "        vertical-align: middle;\n",
       "    }\n",
       "\n",
       "    .dataframe tbody tr th {\n",
       "        vertical-align: top;\n",
       "    }\n",
       "\n",
       "    .dataframe thead th {\n",
       "        text-align: right;\n",
       "    }\n",
       "</style>\n",
       "<table border=\"1\" class=\"dataframe\">\n",
       "  <thead>\n",
       "    <tr style=\"text-align: right;\">\n",
       "      <th></th>\n",
       "      <th>X1</th>\n",
       "      <th>X4</th>\n",
       "      <th>X5</th>\n",
       "      <th>X6</th>\n",
       "      <th>X7</th>\n",
       "      <th>X8</th>\n",
       "      <th>X9</th>\n",
       "      <th>X13</th>\n",
       "      <th>X14</th>\n",
       "      <th>X19</th>\n",
       "      <th>X20</th>\n",
       "      <th>X21</th>\n",
       "      <th>X22</th>\n",
       "      <th>X24</th>\n",
       "      <th>X27</th>\n",
       "      <th>X28</th>\n",
       "      <th>X29</th>\n",
       "      <th>X30</th>\n",
       "      <th>X31</th>\n",
       "    </tr>\n",
       "  </thead>\n",
       "  <tbody>\n",
       "    <tr>\n",
       "      <th>0</th>\n",
       "      <td>0.1189</td>\n",
       "      <td>25000</td>\n",
       "      <td>25000</td>\n",
       "      <td>19080</td>\n",
       "      <td>36</td>\n",
       "      <td>1</td>\n",
       "      <td>8</td>\n",
       "      <td>85000</td>\n",
       "      <td>1</td>\n",
       "      <td>941</td>\n",
       "      <td>CA</td>\n",
       "      <td>0.1948</td>\n",
       "      <td>0</td>\n",
       "      <td>0</td>\n",
       "      <td>10</td>\n",
       "      <td>0</td>\n",
       "      <td>28854</td>\n",
       "      <td>0.521</td>\n",
       "      <td>42</td>\n",
       "    </tr>\n",
       "    <tr>\n",
       "      <th>1</th>\n",
       "      <td>0.1071</td>\n",
       "      <td>7000</td>\n",
       "      <td>7000</td>\n",
       "      <td>673</td>\n",
       "      <td>36</td>\n",
       "      <td>1</td>\n",
       "      <td>9</td>\n",
       "      <td>65000</td>\n",
       "      <td>0</td>\n",
       "      <td>112</td>\n",
       "      <td>NY</td>\n",
       "      <td>0.1429</td>\n",
       "      <td>0</td>\n",
       "      <td>0</td>\n",
       "      <td>7</td>\n",
       "      <td>0</td>\n",
       "      <td>33623</td>\n",
       "      <td>0.767</td>\n",
       "      <td>7</td>\n",
       "    </tr>\n",
       "    <tr>\n",
       "      <th>2</th>\n",
       "      <td>0.1699</td>\n",
       "      <td>25000</td>\n",
       "      <td>25000</td>\n",
       "      <td>24725</td>\n",
       "      <td>36</td>\n",
       "      <td>3</td>\n",
       "      <td>17</td>\n",
       "      <td>70000</td>\n",
       "      <td>1</td>\n",
       "      <td>100</td>\n",
       "      <td>NY</td>\n",
       "      <td>0.1050</td>\n",
       "      <td>0</td>\n",
       "      <td>0</td>\n",
       "      <td>10</td>\n",
       "      <td>0</td>\n",
       "      <td>19878</td>\n",
       "      <td>0.663</td>\n",
       "      <td>17</td>\n",
       "    </tr>\n",
       "    <tr>\n",
       "      <th>3</th>\n",
       "      <td>0.1311</td>\n",
       "      <td>1200</td>\n",
       "      <td>1200</td>\n",
       "      <td>1200</td>\n",
       "      <td>36</td>\n",
       "      <td>2</td>\n",
       "      <td>11</td>\n",
       "      <td>54000</td>\n",
       "      <td>0</td>\n",
       "      <td>777</td>\n",
       "      <td>TX</td>\n",
       "      <td>0.0547</td>\n",
       "      <td>0</td>\n",
       "      <td>0</td>\n",
       "      <td>5</td>\n",
       "      <td>0</td>\n",
       "      <td>2584</td>\n",
       "      <td>0.404</td>\n",
       "      <td>31</td>\n",
       "    </tr>\n",
       "    <tr>\n",
       "      <th>4</th>\n",
       "      <td>0.1357</td>\n",
       "      <td>10800</td>\n",
       "      <td>10800</td>\n",
       "      <td>10692</td>\n",
       "      <td>36</td>\n",
       "      <td>2</td>\n",
       "      <td>12</td>\n",
       "      <td>32000</td>\n",
       "      <td>0</td>\n",
       "      <td>67</td>\n",
       "      <td>CT</td>\n",
       "      <td>0.1163</td>\n",
       "      <td>0</td>\n",
       "      <td>1</td>\n",
       "      <td>14</td>\n",
       "      <td>0</td>\n",
       "      <td>3511</td>\n",
       "      <td>0.256</td>\n",
       "      <td>40</td>\n",
       "    </tr>\n",
       "  </tbody>\n",
       "</table>\n",
       "</div>"
      ],
      "text/plain": [
       "       X1     X4     X5     X6  X7  X8  X9    X13  X14  X19 X20     X21  X22  \\\n",
       "0  0.1189  25000  25000  19080  36   1   8  85000    1  941  CA  0.1948    0   \n",
       "1  0.1071   7000   7000    673  36   1   9  65000    0  112  NY  0.1429    0   \n",
       "2  0.1699  25000  25000  24725  36   3  17  70000    1  100  NY  0.1050    0   \n",
       "3  0.1311   1200   1200   1200  36   2  11  54000    0  777  TX  0.0547    0   \n",
       "4  0.1357  10800  10800  10692  36   2  12  32000    0   67  CT  0.1163    0   \n",
       "\n",
       "   X24  X27  X28    X29    X30  X31  \n",
       "0    0   10    0  28854  0.521   42  \n",
       "1    0    7    0  33623  0.767    7  \n",
       "2    0   10    0  19878  0.663   17  \n",
       "3    0    5    0   2584  0.404   31  \n",
       "4    1   14    0   3511  0.256   40  "
      ]
     },
     "execution_count": 197,
     "metadata": {},
     "output_type": "execute_result"
    }
   ],
   "source": [
    "train.head()"
   ]
  },
  {
   "cell_type": "code",
   "execution_count": 198,
   "metadata": {},
   "outputs": [
    {
     "data": {
      "text/plain": [
       "51700"
      ]
     },
     "execution_count": 198,
     "metadata": {},
     "output_type": "execute_result"
    }
   ],
   "source": [
    "train.isnull().values.any()\n",
    "train.isnull().sum().sum()"
   ]
  },
  {
   "cell_type": "code",
   "execution_count": 199,
   "metadata": {},
   "outputs": [],
   "source": [
    "train.dropna(inplace=True)\n",
    "#test.dropna(inplace=True)\n"
   ]
  },
  {
   "cell_type": "code",
   "execution_count": 200,
   "metadata": {},
   "outputs": [
    {
     "name": "stdout",
     "output_type": "stream",
     "text": [
      "<class 'pandas.core.frame.DataFrame'>\n",
      "Int64Index: 79970 entries, 0 to 79999\n",
      "Data columns (total 20 columns):\n",
      "X1     0 non-null float64\n",
      "X2     79970 non-null int64\n",
      "X4     79970 non-null int64\n",
      "X5     79970 non-null int64\n",
      "X6     79970 non-null int64\n",
      "X7     79970 non-null int64\n",
      "X8     79970 non-null int32\n",
      "X9     79970 non-null int32\n",
      "X13    79970 non-null int32\n",
      "X14    79970 non-null int64\n",
      "X19    79970 non-null int64\n",
      "X20    79970 non-null object\n",
      "X21    79970 non-null float64\n",
      "X22    79970 non-null int64\n",
      "X24    79970 non-null int64\n",
      "X27    79970 non-null int64\n",
      "X28    79970 non-null int64\n",
      "X29    79970 non-null int64\n",
      "X30    79970 non-null float64\n",
      "X31    79970 non-null int64\n",
      "dtypes: float64(3), int32(3), int64(13), object(1)\n",
      "memory usage: 11.9+ MB\n"
     ]
    }
   ],
   "source": [
    "test.info()"
   ]
  },
  {
   "cell_type": "code",
   "execution_count": 201,
   "metadata": {},
   "outputs": [
    {
     "data": {
      "text/html": [
       "<div>\n",
       "<style scoped>\n",
       "    .dataframe tbody tr th:only-of-type {\n",
       "        vertical-align: middle;\n",
       "    }\n",
       "\n",
       "    .dataframe tbody tr th {\n",
       "        vertical-align: top;\n",
       "    }\n",
       "\n",
       "    .dataframe thead th {\n",
       "        text-align: right;\n",
       "    }\n",
       "</style>\n",
       "<table border=\"1\" class=\"dataframe\">\n",
       "  <thead>\n",
       "    <tr style=\"text-align: right;\">\n",
       "      <th></th>\n",
       "      <th>X1</th>\n",
       "      <th>X4</th>\n",
       "      <th>X5</th>\n",
       "      <th>X6</th>\n",
       "      <th>X7</th>\n",
       "      <th>X8</th>\n",
       "      <th>X9</th>\n",
       "      <th>X13</th>\n",
       "      <th>X14</th>\n",
       "      <th>X19</th>\n",
       "      <th>X20</th>\n",
       "      <th>X21</th>\n",
       "      <th>X22</th>\n",
       "      <th>X24</th>\n",
       "      <th>X27</th>\n",
       "      <th>X28</th>\n",
       "      <th>X29</th>\n",
       "      <th>X30</th>\n",
       "      <th>X31</th>\n",
       "    </tr>\n",
       "  </thead>\n",
       "  <tbody>\n",
       "    <tr>\n",
       "      <th>0</th>\n",
       "      <td>0.1189</td>\n",
       "      <td>25000</td>\n",
       "      <td>25000</td>\n",
       "      <td>19080</td>\n",
       "      <td>36</td>\n",
       "      <td>1</td>\n",
       "      <td>8</td>\n",
       "      <td>85000</td>\n",
       "      <td>1</td>\n",
       "      <td>941</td>\n",
       "      <td>CA</td>\n",
       "      <td>0.1948</td>\n",
       "      <td>0</td>\n",
       "      <td>0</td>\n",
       "      <td>10</td>\n",
       "      <td>0</td>\n",
       "      <td>28854</td>\n",
       "      <td>0.521</td>\n",
       "      <td>42</td>\n",
       "    </tr>\n",
       "    <tr>\n",
       "      <th>1</th>\n",
       "      <td>0.1071</td>\n",
       "      <td>7000</td>\n",
       "      <td>7000</td>\n",
       "      <td>673</td>\n",
       "      <td>36</td>\n",
       "      <td>1</td>\n",
       "      <td>9</td>\n",
       "      <td>65000</td>\n",
       "      <td>0</td>\n",
       "      <td>112</td>\n",
       "      <td>NY</td>\n",
       "      <td>0.1429</td>\n",
       "      <td>0</td>\n",
       "      <td>0</td>\n",
       "      <td>7</td>\n",
       "      <td>0</td>\n",
       "      <td>33623</td>\n",
       "      <td>0.767</td>\n",
       "      <td>7</td>\n",
       "    </tr>\n",
       "    <tr>\n",
       "      <th>2</th>\n",
       "      <td>0.1699</td>\n",
       "      <td>25000</td>\n",
       "      <td>25000</td>\n",
       "      <td>24725</td>\n",
       "      <td>36</td>\n",
       "      <td>3</td>\n",
       "      <td>17</td>\n",
       "      <td>70000</td>\n",
       "      <td>1</td>\n",
       "      <td>100</td>\n",
       "      <td>NY</td>\n",
       "      <td>0.1050</td>\n",
       "      <td>0</td>\n",
       "      <td>0</td>\n",
       "      <td>10</td>\n",
       "      <td>0</td>\n",
       "      <td>19878</td>\n",
       "      <td>0.663</td>\n",
       "      <td>17</td>\n",
       "    </tr>\n",
       "    <tr>\n",
       "      <th>3</th>\n",
       "      <td>0.1311</td>\n",
       "      <td>1200</td>\n",
       "      <td>1200</td>\n",
       "      <td>1200</td>\n",
       "      <td>36</td>\n",
       "      <td>2</td>\n",
       "      <td>11</td>\n",
       "      <td>54000</td>\n",
       "      <td>0</td>\n",
       "      <td>777</td>\n",
       "      <td>TX</td>\n",
       "      <td>0.0547</td>\n",
       "      <td>0</td>\n",
       "      <td>0</td>\n",
       "      <td>5</td>\n",
       "      <td>0</td>\n",
       "      <td>2584</td>\n",
       "      <td>0.404</td>\n",
       "      <td>31</td>\n",
       "    </tr>\n",
       "    <tr>\n",
       "      <th>4</th>\n",
       "      <td>0.1357</td>\n",
       "      <td>10800</td>\n",
       "      <td>10800</td>\n",
       "      <td>10692</td>\n",
       "      <td>36</td>\n",
       "      <td>2</td>\n",
       "      <td>12</td>\n",
       "      <td>32000</td>\n",
       "      <td>0</td>\n",
       "      <td>67</td>\n",
       "      <td>CT</td>\n",
       "      <td>0.1163</td>\n",
       "      <td>0</td>\n",
       "      <td>1</td>\n",
       "      <td>14</td>\n",
       "      <td>0</td>\n",
       "      <td>3511</td>\n",
       "      <td>0.256</td>\n",
       "      <td>40</td>\n",
       "    </tr>\n",
       "  </tbody>\n",
       "</table>\n",
       "</div>"
      ],
      "text/plain": [
       "       X1     X4     X5     X6  X7  X8  X9    X13  X14  X19 X20     X21  X22  \\\n",
       "0  0.1189  25000  25000  19080  36   1   8  85000    1  941  CA  0.1948    0   \n",
       "1  0.1071   7000   7000    673  36   1   9  65000    0  112  NY  0.1429    0   \n",
       "2  0.1699  25000  25000  24725  36   3  17  70000    1  100  NY  0.1050    0   \n",
       "3  0.1311   1200   1200   1200  36   2  11  54000    0  777  TX  0.0547    0   \n",
       "4  0.1357  10800  10800  10692  36   2  12  32000    0   67  CT  0.1163    0   \n",
       "\n",
       "   X24  X27  X28    X29    X30  X31  \n",
       "0    0   10    0  28854  0.521   42  \n",
       "1    0    7    0  33623  0.767    7  \n",
       "2    0   10    0  19878  0.663   17  \n",
       "3    0    5    0   2584  0.404   31  \n",
       "4    1   14    0   3511  0.256   40  "
      ]
     },
     "execution_count": 201,
     "metadata": {},
     "output_type": "execute_result"
    }
   ],
   "source": [
    "train.head()"
   ]
  },
  {
   "cell_type": "code",
   "execution_count": 204,
   "metadata": {},
   "outputs": [],
   "source": [
    "train.rename(columns = {'X1':'Interest Rate',\n",
    "                        'X2':'Loan ID',\n",
    "                        'X4':'Amount requested',\n",
    "                        'X5':'Amount funded',\n",
    "                        'X6':'Investor funded portion',\n",
    "                        'X7':'Number of payments',\n",
    "                        'X8':'Loan grade ',\n",
    "                        'X9':'Loan subgrade',\n",
    "                        'X13':'Annual income of borrower ',\n",
    "                        'X14':'Income verification',\n",
    "                        'X19':'Loan title ',\n",
    "                        'X20':'State of borrower',\n",
    "                        'X21':'Debt payments on total obligations ratio ',\n",
    "                        'X22':'Delinquency',\n",
    "                        'X24':'Inquiries by creditors ',\n",
    "                        'X27':'Nr of open credit lines',\n",
    "                        'X28':'Derogatory public records',\n",
    "                        'X29':'Revolving balance',\n",
    "                        'X30':'Revolving line utilization',\n",
    "                        'X31':'Initial listing status',\n",
    "                       },\n",
    "                inplace = True) \n",
    "\n"
   ]
  },
  {
   "cell_type": "code",
   "execution_count": 205,
   "metadata": {},
   "outputs": [
    {
     "data": {
      "text/html": [
       "<div>\n",
       "<style scoped>\n",
       "    .dataframe tbody tr th:only-of-type {\n",
       "        vertical-align: middle;\n",
       "    }\n",
       "\n",
       "    .dataframe tbody tr th {\n",
       "        vertical-align: top;\n",
       "    }\n",
       "\n",
       "    .dataframe thead th {\n",
       "        text-align: right;\n",
       "    }\n",
       "</style>\n",
       "<table border=\"1\" class=\"dataframe\">\n",
       "  <thead>\n",
       "    <tr style=\"text-align: right;\">\n",
       "      <th></th>\n",
       "      <th>Interest Rate</th>\n",
       "      <th>Amount requested</th>\n",
       "      <th>Amount funded</th>\n",
       "      <th>Investor funded portion</th>\n",
       "      <th>Number of payments</th>\n",
       "      <th>Loan grade</th>\n",
       "      <th>Loan subgrade</th>\n",
       "      <th>Annual income of borrower</th>\n",
       "      <th>Income verification</th>\n",
       "      <th>Loan title</th>\n",
       "      <th>State of borrower</th>\n",
       "      <th>Debt payments on total obligations ratio</th>\n",
       "      <th>Delinquency</th>\n",
       "      <th>Inquiries by creditors</th>\n",
       "      <th>Nr of open credit lines</th>\n",
       "      <th>Derogatory public records</th>\n",
       "      <th>Revolving balance</th>\n",
       "      <th>Revolving line utilization</th>\n",
       "      <th>Initial listing status</th>\n",
       "    </tr>\n",
       "  </thead>\n",
       "  <tbody>\n",
       "    <tr>\n",
       "      <th>0</th>\n",
       "      <td>0.1189</td>\n",
       "      <td>25000</td>\n",
       "      <td>25000</td>\n",
       "      <td>19080</td>\n",
       "      <td>36</td>\n",
       "      <td>1</td>\n",
       "      <td>8</td>\n",
       "      <td>85000</td>\n",
       "      <td>1</td>\n",
       "      <td>941</td>\n",
       "      <td>CA</td>\n",
       "      <td>0.1948</td>\n",
       "      <td>0</td>\n",
       "      <td>0</td>\n",
       "      <td>10</td>\n",
       "      <td>0</td>\n",
       "      <td>28854</td>\n",
       "      <td>0.521</td>\n",
       "      <td>42</td>\n",
       "    </tr>\n",
       "    <tr>\n",
       "      <th>1</th>\n",
       "      <td>0.1071</td>\n",
       "      <td>7000</td>\n",
       "      <td>7000</td>\n",
       "      <td>673</td>\n",
       "      <td>36</td>\n",
       "      <td>1</td>\n",
       "      <td>9</td>\n",
       "      <td>65000</td>\n",
       "      <td>0</td>\n",
       "      <td>112</td>\n",
       "      <td>NY</td>\n",
       "      <td>0.1429</td>\n",
       "      <td>0</td>\n",
       "      <td>0</td>\n",
       "      <td>7</td>\n",
       "      <td>0</td>\n",
       "      <td>33623</td>\n",
       "      <td>0.767</td>\n",
       "      <td>7</td>\n",
       "    </tr>\n",
       "    <tr>\n",
       "      <th>2</th>\n",
       "      <td>0.1699</td>\n",
       "      <td>25000</td>\n",
       "      <td>25000</td>\n",
       "      <td>24725</td>\n",
       "      <td>36</td>\n",
       "      <td>3</td>\n",
       "      <td>17</td>\n",
       "      <td>70000</td>\n",
       "      <td>1</td>\n",
       "      <td>100</td>\n",
       "      <td>NY</td>\n",
       "      <td>0.1050</td>\n",
       "      <td>0</td>\n",
       "      <td>0</td>\n",
       "      <td>10</td>\n",
       "      <td>0</td>\n",
       "      <td>19878</td>\n",
       "      <td>0.663</td>\n",
       "      <td>17</td>\n",
       "    </tr>\n",
       "    <tr>\n",
       "      <th>3</th>\n",
       "      <td>0.1311</td>\n",
       "      <td>1200</td>\n",
       "      <td>1200</td>\n",
       "      <td>1200</td>\n",
       "      <td>36</td>\n",
       "      <td>2</td>\n",
       "      <td>11</td>\n",
       "      <td>54000</td>\n",
       "      <td>0</td>\n",
       "      <td>777</td>\n",
       "      <td>TX</td>\n",
       "      <td>0.0547</td>\n",
       "      <td>0</td>\n",
       "      <td>0</td>\n",
       "      <td>5</td>\n",
       "      <td>0</td>\n",
       "      <td>2584</td>\n",
       "      <td>0.404</td>\n",
       "      <td>31</td>\n",
       "    </tr>\n",
       "    <tr>\n",
       "      <th>4</th>\n",
       "      <td>0.1357</td>\n",
       "      <td>10800</td>\n",
       "      <td>10800</td>\n",
       "      <td>10692</td>\n",
       "      <td>36</td>\n",
       "      <td>2</td>\n",
       "      <td>12</td>\n",
       "      <td>32000</td>\n",
       "      <td>0</td>\n",
       "      <td>67</td>\n",
       "      <td>CT</td>\n",
       "      <td>0.1163</td>\n",
       "      <td>0</td>\n",
       "      <td>1</td>\n",
       "      <td>14</td>\n",
       "      <td>0</td>\n",
       "      <td>3511</td>\n",
       "      <td>0.256</td>\n",
       "      <td>40</td>\n",
       "    </tr>\n",
       "  </tbody>\n",
       "</table>\n",
       "</div>"
      ],
      "text/plain": [
       "   Interest Rate  Amount requested  Amount funded  Investor funded portion  \\\n",
       "0         0.1189             25000          25000                    19080   \n",
       "1         0.1071              7000           7000                      673   \n",
       "2         0.1699             25000          25000                    24725   \n",
       "3         0.1311              1200           1200                     1200   \n",
       "4         0.1357             10800          10800                    10692   \n",
       "\n",
       "   Number of payments  Loan grade   Loan subgrade  Annual income of borrower   \\\n",
       "0                  36            1              8                       85000   \n",
       "1                  36            1              9                       65000   \n",
       "2                  36            3             17                       70000   \n",
       "3                  36            2             11                       54000   \n",
       "4                  36            2             12                       32000   \n",
       "\n",
       "   Income verification  Loan title  State of borrower  \\\n",
       "0                    1          941                CA   \n",
       "1                    0          112                NY   \n",
       "2                    1          100                NY   \n",
       "3                    0          777                TX   \n",
       "4                    0           67                CT   \n",
       "\n",
       "   Debt payments on total obligations ratio   Delinquency  \\\n",
       "0                                     0.1948            0   \n",
       "1                                     0.1429            0   \n",
       "2                                     0.1050            0   \n",
       "3                                     0.0547            0   \n",
       "4                                     0.1163            0   \n",
       "\n",
       "   Inquiries by creditors   Nr of open credit lines  \\\n",
       "0                        0                       10   \n",
       "1                        0                        7   \n",
       "2                        0                       10   \n",
       "3                        0                        5   \n",
       "4                        1                       14   \n",
       "\n",
       "   Derogatory public records  Revolving balance  Revolving line utilization  \\\n",
       "0                          0              28854                       0.521   \n",
       "1                          0              33623                       0.767   \n",
       "2                          0              19878                       0.663   \n",
       "3                          0               2584                       0.404   \n",
       "4                          0               3511                       0.256   \n",
       "\n",
       "   Initial listing status  \n",
       "0                      42  \n",
       "1                       7  \n",
       "2                      17  \n",
       "3                      31  \n",
       "4                      40  "
      ]
     },
     "execution_count": 205,
     "metadata": {},
     "output_type": "execute_result"
    }
   ],
   "source": [
    "train.head()"
   ]
  },
  {
   "cell_type": "code",
   "execution_count": 207,
   "metadata": {},
   "outputs": [],
   "source": [
    "train.to_csv('C:/Users/Gokturk/Desktop/MSCA/Winter 2020/Data Visualization/Assignments/Project/loan_data.csv', index=False)"
   ]
  },
  {
   "cell_type": "code",
   "execution_count": 209,
   "metadata": {},
   "outputs": [],
   "source": [
    "loan_new = train[['State of borrower','Amount funded']]"
   ]
  },
  {
   "cell_type": "code",
   "execution_count": 212,
   "metadata": {},
   "outputs": [],
   "source": [
    "loan_new.to_csv('C:/Users/Gokturk/Desktop/MSCA/Winter 2020/Data Visualization/Assignments/Project/loan_new.csv', index=False)"
   ]
  },
  {
   "cell_type": "code",
   "execution_count": 213,
   "metadata": {},
   "outputs": [
    {
     "data": {
      "text/html": [
       "<div>\n",
       "<style scoped>\n",
       "    .dataframe tbody tr th:only-of-type {\n",
       "        vertical-align: middle;\n",
       "    }\n",
       "\n",
       "    .dataframe tbody tr th {\n",
       "        vertical-align: top;\n",
       "    }\n",
       "\n",
       "    .dataframe thead th {\n",
       "        text-align: right;\n",
       "    }\n",
       "</style>\n",
       "<table border=\"1\" class=\"dataframe\">\n",
       "  <thead>\n",
       "    <tr style=\"text-align: right;\">\n",
       "      <th></th>\n",
       "      <th>State of borrower</th>\n",
       "      <th>Amount funded</th>\n",
       "    </tr>\n",
       "  </thead>\n",
       "  <tbody>\n",
       "    <tr>\n",
       "      <th>0</th>\n",
       "      <td>CA</td>\n",
       "      <td>25000</td>\n",
       "    </tr>\n",
       "    <tr>\n",
       "      <th>1</th>\n",
       "      <td>NY</td>\n",
       "      <td>7000</td>\n",
       "    </tr>\n",
       "    <tr>\n",
       "      <th>2</th>\n",
       "      <td>NY</td>\n",
       "      <td>25000</td>\n",
       "    </tr>\n",
       "    <tr>\n",
       "      <th>3</th>\n",
       "      <td>TX</td>\n",
       "      <td>1200</td>\n",
       "    </tr>\n",
       "    <tr>\n",
       "      <th>4</th>\n",
       "      <td>CT</td>\n",
       "      <td>10800</td>\n",
       "    </tr>\n",
       "  </tbody>\n",
       "</table>\n",
       "</div>"
      ],
      "text/plain": [
       "  State of borrower  Amount funded\n",
       "0                CA          25000\n",
       "1                NY           7000\n",
       "2                NY          25000\n",
       "3                TX           1200\n",
       "4                CT          10800"
      ]
     },
     "execution_count": 213,
     "metadata": {},
     "output_type": "execute_result"
    }
   ],
   "source": [
    "loan_new.head()"
   ]
  },
  {
   "cell_type": "code",
   "execution_count": 216,
   "metadata": {},
   "outputs": [
    {
     "data": {
      "text/html": [
       "<div>\n",
       "<style scoped>\n",
       "    .dataframe tbody tr th:only-of-type {\n",
       "        vertical-align: middle;\n",
       "    }\n",
       "\n",
       "    .dataframe tbody tr th {\n",
       "        vertical-align: top;\n",
       "    }\n",
       "\n",
       "    .dataframe thead th {\n",
       "        text-align: right;\n",
       "    }\n",
       "</style>\n",
       "<table border=\"1\" class=\"dataframe\">\n",
       "  <thead>\n",
       "    <tr style=\"text-align: right;\">\n",
       "      <th></th>\n",
       "      <th>Amount funded</th>\n",
       "    </tr>\n",
       "    <tr>\n",
       "      <th>State of borrower</th>\n",
       "      <th></th>\n",
       "    </tr>\n",
       "  </thead>\n",
       "  <tbody>\n",
       "    <tr>\n",
       "      <th>AK</th>\n",
       "      <td>13178550</td>\n",
       "    </tr>\n",
       "    <tr>\n",
       "      <th>AL</th>\n",
       "      <td>51046650</td>\n",
       "    </tr>\n",
       "    <tr>\n",
       "      <th>AR</th>\n",
       "      <td>28958325</td>\n",
       "    </tr>\n",
       "    <tr>\n",
       "      <th>AZ</th>\n",
       "      <td>90038975</td>\n",
       "    </tr>\n",
       "    <tr>\n",
       "      <th>CA</th>\n",
       "      <td>625847075</td>\n",
       "    </tr>\n",
       "    <tr>\n",
       "      <th>CO</th>\n",
       "      <td>87920075</td>\n",
       "    </tr>\n",
       "    <tr>\n",
       "      <th>CT</th>\n",
       "      <td>64527550</td>\n",
       "    </tr>\n",
       "    <tr>\n",
       "      <th>DC</th>\n",
       "      <td>12949575</td>\n",
       "    </tr>\n",
       "    <tr>\n",
       "      <th>DE</th>\n",
       "      <td>10870550</td>\n",
       "    </tr>\n",
       "    <tr>\n",
       "      <th>FL</th>\n",
       "      <td>258781100</td>\n",
       "    </tr>\n",
       "    <tr>\n",
       "      <th>GA</th>\n",
       "      <td>132828475</td>\n",
       "    </tr>\n",
       "    <tr>\n",
       "      <th>HI</th>\n",
       "      <td>22689525</td>\n",
       "    </tr>\n",
       "    <tr>\n",
       "      <th>IA</th>\n",
       "      <td>70375</td>\n",
       "    </tr>\n",
       "    <tr>\n",
       "      <th>ID</th>\n",
       "      <td>65750</td>\n",
       "    </tr>\n",
       "    <tr>\n",
       "      <th>IL</th>\n",
       "      <td>168415775</td>\n",
       "    </tr>\n",
       "    <tr>\n",
       "      <th>IN</th>\n",
       "      <td>57749125</td>\n",
       "    </tr>\n",
       "    <tr>\n",
       "      <th>KS</th>\n",
       "      <td>37518900</td>\n",
       "    </tr>\n",
       "    <tr>\n",
       "      <th>KY</th>\n",
       "      <td>37345525</td>\n",
       "    </tr>\n",
       "    <tr>\n",
       "      <th>LA</th>\n",
       "      <td>48691850</td>\n",
       "    </tr>\n",
       "    <tr>\n",
       "      <th>MA</th>\n",
       "      <td>104282700</td>\n",
       "    </tr>\n",
       "    <tr>\n",
       "      <th>MD</th>\n",
       "      <td>102526750</td>\n",
       "    </tr>\n",
       "    <tr>\n",
       "      <th>ME</th>\n",
       "      <td>39050</td>\n",
       "    </tr>\n",
       "    <tr>\n",
       "      <th>MI</th>\n",
       "      <td>97374750</td>\n",
       "    </tr>\n",
       "    <tr>\n",
       "      <th>MN</th>\n",
       "      <td>68313900</td>\n",
       "    </tr>\n",
       "    <tr>\n",
       "      <th>MO</th>\n",
       "      <td>64562650</td>\n",
       "    </tr>\n",
       "    <tr>\n",
       "      <th>MS</th>\n",
       "      <td>9140775</td>\n",
       "    </tr>\n",
       "    <tr>\n",
       "      <th>MT</th>\n",
       "      <td>11178625</td>\n",
       "    </tr>\n",
       "    <tr>\n",
       "      <th>NC</th>\n",
       "      <td>110862350</td>\n",
       "    </tr>\n",
       "    <tr>\n",
       "      <th>NE</th>\n",
       "      <td>56450</td>\n",
       "    </tr>\n",
       "    <tr>\n",
       "      <th>NH</th>\n",
       "      <td>19947600</td>\n",
       "    </tr>\n",
       "    <tr>\n",
       "      <th>NJ</th>\n",
       "      <td>166982375</td>\n",
       "    </tr>\n",
       "    <tr>\n",
       "      <th>NM</th>\n",
       "      <td>23073650</td>\n",
       "    </tr>\n",
       "    <tr>\n",
       "      <th>NV</th>\n",
       "      <td>54367275</td>\n",
       "    </tr>\n",
       "    <tr>\n",
       "      <th>NY</th>\n",
       "      <td>346876200</td>\n",
       "    </tr>\n",
       "    <tr>\n",
       "      <th>OH</th>\n",
       "      <td>129821650</td>\n",
       "    </tr>\n",
       "    <tr>\n",
       "      <th>OK</th>\n",
       "      <td>36412375</td>\n",
       "    </tr>\n",
       "    <tr>\n",
       "      <th>OR</th>\n",
       "      <td>49032825</td>\n",
       "    </tr>\n",
       "    <tr>\n",
       "      <th>PA</th>\n",
       "      <td>138588025</td>\n",
       "    </tr>\n",
       "    <tr>\n",
       "      <th>RI</th>\n",
       "      <td>16853375</td>\n",
       "    </tr>\n",
       "    <tr>\n",
       "      <th>SC</th>\n",
       "      <td>48651225</td>\n",
       "    </tr>\n",
       "    <tr>\n",
       "      <th>SD</th>\n",
       "      <td>8027750</td>\n",
       "    </tr>\n",
       "    <tr>\n",
       "      <th>TN</th>\n",
       "      <td>52597025</td>\n",
       "    </tr>\n",
       "    <tr>\n",
       "      <th>TX</th>\n",
       "      <td>334978150</td>\n",
       "    </tr>\n",
       "    <tr>\n",
       "      <th>UT</th>\n",
       "      <td>30638400</td>\n",
       "    </tr>\n",
       "    <tr>\n",
       "      <th>VA</th>\n",
       "      <td>132739050</td>\n",
       "    </tr>\n",
       "    <tr>\n",
       "      <th>VT</th>\n",
       "      <td>6745075</td>\n",
       "    </tr>\n",
       "    <tr>\n",
       "      <th>WA</th>\n",
       "      <td>93113525</td>\n",
       "    </tr>\n",
       "    <tr>\n",
       "      <th>WI</th>\n",
       "      <td>50075525</td>\n",
       "    </tr>\n",
       "    <tr>\n",
       "      <th>WV</th>\n",
       "      <td>20744475</td>\n",
       "    </tr>\n",
       "    <tr>\n",
       "      <th>WY</th>\n",
       "      <td>11213025</td>\n",
       "    </tr>\n",
       "  </tbody>\n",
       "</table>\n",
       "</div>"
      ],
      "text/plain": [
       "                   Amount funded\n",
       "State of borrower               \n",
       "AK                      13178550\n",
       "AL                      51046650\n",
       "AR                      28958325\n",
       "AZ                      90038975\n",
       "CA                     625847075\n",
       "CO                      87920075\n",
       "CT                      64527550\n",
       "DC                      12949575\n",
       "DE                      10870550\n",
       "FL                     258781100\n",
       "GA                     132828475\n",
       "HI                      22689525\n",
       "IA                         70375\n",
       "ID                         65750\n",
       "IL                     168415775\n",
       "IN                      57749125\n",
       "KS                      37518900\n",
       "KY                      37345525\n",
       "LA                      48691850\n",
       "MA                     104282700\n",
       "MD                     102526750\n",
       "ME                         39050\n",
       "MI                      97374750\n",
       "MN                      68313900\n",
       "MO                      64562650\n",
       "MS                       9140775\n",
       "MT                      11178625\n",
       "NC                     110862350\n",
       "NE                         56450\n",
       "NH                      19947600\n",
       "NJ                     166982375\n",
       "NM                      23073650\n",
       "NV                      54367275\n",
       "NY                     346876200\n",
       "OH                     129821650\n",
       "OK                      36412375\n",
       "OR                      49032825\n",
       "PA                     138588025\n",
       "RI                      16853375\n",
       "SC                      48651225\n",
       "SD                       8027750\n",
       "TN                      52597025\n",
       "TX                     334978150\n",
       "UT                      30638400\n",
       "VA                     132739050\n",
       "VT                       6745075\n",
       "WA                      93113525\n",
       "WI                      50075525\n",
       "WV                      20744475\n",
       "WY                      11213025"
      ]
     },
     "execution_count": 216,
     "metadata": {},
     "output_type": "execute_result"
    }
   ],
   "source": [
    "totalloanbystate= loan_new.groupby('State of borrower').sum()\n",
    "totalloanbystate"
   ]
  },
  {
   "cell_type": "code",
   "execution_count": 218,
   "metadata": {},
   "outputs": [],
   "source": [
    "totalloanbystate.to_csv('C:/Users/Gokturk/Desktop/MSCA/Winter 2020/Data Visualization/Assignments/Project/totalloanbystate.csv')\n",
    "\n"
   ]
  },
  {
   "cell_type": "markdown",
   "metadata": {},
   "source": [
    "# Step 2:\n",
    "Build your models:"
   ]
  },
  {
   "cell_type": "code",
   "execution_count": 49,
   "metadata": {},
   "outputs": [],
   "source": [
    "X = train.drop(['X1'], axis=1)\n",
    "Y = train[\"X1\"]"
   ]
  },
  {
   "cell_type": "code",
   "execution_count": 50,
   "metadata": {},
   "outputs": [
    {
     "data": {
      "text/plain": [
       "((287050, 17), (287050,))"
      ]
     },
     "execution_count": 50,
     "metadata": {},
     "output_type": "execute_result"
    }
   ],
   "source": [
    "X.shape, Y.shape"
   ]
  },
  {
   "cell_type": "code",
   "execution_count": 51,
   "metadata": {
    "scrolled": true
   },
   "outputs": [],
   "source": [
    "X_train, X_test, Y_train, Y_test = train_test_split(X, Y,test_size=0.25,random_state=1)"
   ]
  },
  {
   "cell_type": "code",
   "execution_count": 52,
   "metadata": {},
   "outputs": [],
   "source": [
    "# Set seed for reproducibility\n",
    "SEED = 1"
   ]
  },
  {
   "cell_type": "code",
   "execution_count": 53,
   "metadata": {},
   "outputs": [],
   "source": [
    "#Linear Regression\n",
    "lin_reg = LinearRegression()\n",
    "lin_reg.fit(X_train, Y_train)\n",
    "y_pred_lr = lin_reg.predict(X_test)"
   ]
  },
  {
   "cell_type": "code",
   "execution_count": 58,
   "metadata": {},
   "outputs": [
    {
     "name": "stdout",
     "output_type": "stream",
     "text": [
      "Linear Regression Accuracy:  0.6789928822404663\n"
     ]
    }
   ],
   "source": [
    "#Linear Regression Accuracy with test set\n",
    "print('Linear Regression Accuracy: ', lin_reg.score(X_test,Y_test))\n"
   ]
  },
  {
   "cell_type": "code",
   "execution_count": 59,
   "metadata": {},
   "outputs": [
    {
     "name": "stdout",
     "output_type": "stream",
     "text": [
      "Test set RMSE of linear regression: 0.02\n"
     ]
    }
   ],
   "source": [
    "# Compute mse for linear regression\n",
    "mse_lin_reg = MSE(Y_test, y_pred_lr)\n",
    "\n",
    "# Compute rmse\n",
    "rmse_lin_reg = mse_lin_reg**(1/2)\n",
    "\n",
    "# Print rmse\n",
    "print(\"Test set RMSE of linear regression: {:.2f}\".format(rmse_lin_reg))"
   ]
  },
  {
   "cell_type": "code",
   "execution_count": 60,
   "metadata": {},
   "outputs": [
    {
     "name": "stdout",
     "output_type": "stream",
     "text": [
      "CV RMSE: 0.02\n"
     ]
    }
   ],
   "source": [
    "from sklearn.model_selection import cross_val_score\n",
    "# Compute the array containing the 10-folds CV MSEs\n",
    "MSE_CV_scores = - cross_val_score(lin_reg, X_train, Y_train, cv=10, \n",
    "                                  scoring='neg_mean_squared_error', \n",
    "                                  n_jobs=-1) \n",
    "\n",
    "# Compute the 10-folds CV RMSE\n",
    "RMSE_CV = (MSE_CV_scores.mean())**(1/2)\n",
    "\n",
    "# Print RMSE_CV\n",
    "print('CV RMSE: {:.2f}'.format(RMSE_CV))"
   ]
  },
  {
   "cell_type": "code",
   "execution_count": 61,
   "metadata": {},
   "outputs": [],
   "source": [
    "#Decision Tree Regressor\n",
    "\n",
    "dt_regressor = DecisionTreeRegressor(max_depth=8,\n",
    "                           min_samples_leaf=0.13,\n",
    "                           random_state=SEED)\n",
    "dt_regressor.fit(X_train, Y_train)\n",
    "\n",
    "y_pred_dt = dt_regressor.predict(X_test)"
   ]
  },
  {
   "cell_type": "code",
   "execution_count": 62,
   "metadata": {},
   "outputs": [
    {
     "name": "stdout",
     "output_type": "stream",
     "text": [
      "Decision Tree Regression Accuracy:  0.6773149373486973\n"
     ]
    }
   ],
   "source": [
    "#Decision Tree Regression Accuracy with test set\n",
    "print('Decision Tree Regression Accuracy: ', dt_regressor.score(X_test,Y_test))"
   ]
  },
  {
   "cell_type": "code",
   "execution_count": 63,
   "metadata": {},
   "outputs": [
    {
     "name": "stdout",
     "output_type": "stream",
     "text": [
      "Test set RMSE of decision tree regression: 0.02\n"
     ]
    }
   ],
   "source": [
    "# Compute mse for decision tree regression\n",
    "mse_dtree = MSE(Y_test, y_pred_dt)\n",
    "\n",
    "# Compute rmse_dt\n",
    "rmse_dtree = mse_dtree**(1/2)\n",
    "\n",
    "# Print rmse_dt\n",
    "print(\"Test set RMSE of decision tree regression: {:.2f}\".format(rmse_dtree))"
   ]
  },
  {
   "cell_type": "code",
   "execution_count": 64,
   "metadata": {},
   "outputs": [
    {
     "name": "stdout",
     "output_type": "stream",
     "text": [
      "CV RMSE: 0.02\n"
     ]
    }
   ],
   "source": [
    "from sklearn.model_selection import cross_val_score\n",
    "# Compute the array containing the 10-folds CV MSEs\n",
    "MSE_CV_scores = - cross_val_score(dt_regressor, X_train, Y_train, cv=10, \n",
    "                                  scoring='neg_mean_squared_error', \n",
    "                                  n_jobs=-1) \n",
    "# Compute the 10-folds CV RMSE\n",
    "RMSE_CV = (MSE_CV_scores.mean())**(1/2)\n",
    "\n",
    "# Print RMSE_CV\n",
    "print('CV RMSE: {:.2f}'.format(RMSE_CV))"
   ]
  },
  {
   "cell_type": "code",
   "execution_count": 67,
   "metadata": {},
   "outputs": [],
   "source": [
    "#Random Forest regressor\n",
    "\n",
    "# Instantiate a random forests regressor 'rf' 400 estimators\n",
    "rf_regressor = RandomForestRegressor(n_estimators=300,\n",
    "min_samples_leaf=0.12,random_state=SEED)\n",
    "\n",
    "# Fit 'rf' to the training set\n",
    "rf_regressor.fit(X_train, Y_train)\n",
    "\n",
    "# Predict the Loan rate\n",
    "y_pred_rf_test = rf_regressor.predict(X_test)\n",
    "y_pred_rf_train=rf_regressor.predict(X_train)\n"
   ]
  },
  {
   "cell_type": "code",
   "execution_count": 68,
   "metadata": {},
   "outputs": [
    {
     "name": "stdout",
     "output_type": "stream",
     "text": [
      "Random Forest Regression Accuracy:  0.5734172083215265\n"
     ]
    }
   ],
   "source": [
    "# Random Forest Regression Accuracy with test set\n",
    "print('Random Forest Regression Accuracy: ', rf_regressor.score(X_test,Y_test))"
   ]
  },
  {
   "cell_type": "code",
   "execution_count": 69,
   "metadata": {},
   "outputs": [
    {
     "name": "stdout",
     "output_type": "stream",
     "text": [
      "Test set RMSE of rf: 0.03\n",
      "Train set RMSE of rf: 0.03\n"
     ]
    }
   ],
   "source": [
    "# Compute rmse for random forest regression\n",
    "rmse_test_rf = MSE(Y_test, y_pred_rf_test)**(1/2)\n",
    "rmse_train_rf = MSE(Y_train, y_pred_rf_train)**(1/2)\n",
    "\n",
    "# Print the test set RMSE\n",
    "print('Test set RMSE of rf: {:.2f}'.format(rmse_test_rf))\n",
    "print('Train set RMSE of rf: {:.2f}'.format(rmse_train_rf))"
   ]
  },
  {
   "cell_type": "code",
   "execution_count": 70,
   "metadata": {},
   "outputs": [],
   "source": [
    "# Gradient Boosting Regressor\n",
    "\n",
    "# Instantiate gb\n",
    "gb = GradientBoostingRegressor(max_depth=6,\n",
    "                               n_estimators=600,\n",
    "                               random_state=SEED)\n",
    "\n",
    "# Fit gb to the training set\n",
    "gb.fit(X_train, Y_train)\n",
    "\n",
    "# Predict test set labels\n",
    "y_pred_gboost = gb.predict(X_test)"
   ]
  },
  {
   "cell_type": "code",
   "execution_count": 71,
   "metadata": {},
   "outputs": [
    {
     "name": "stdout",
     "output_type": "stream",
     "text": [
      "Gradient Boosting Regression Accuracy:  0.8891766161414955\n"
     ]
    }
   ],
   "source": [
    "# Gradient Boosting Regression Accuracy with test set\n",
    "print('Gradient Boosting Regression Accuracy: ', gb.score(X_test,Y_test))\n",
    "\n"
   ]
  },
  {
   "cell_type": "code",
   "execution_count": 72,
   "metadata": {},
   "outputs": [
    {
     "name": "stdout",
     "output_type": "stream",
     "text": [
      "Test set RMSE of gb: 0.015\n"
     ]
    }
   ],
   "source": [
    "# Compute MSE\n",
    "mse_test_gb = MSE(Y_test, y_pred_gboost)\n",
    "\n",
    "# Compute RMSE\n",
    "rmse_test_gb = mse_test_gb**(1/2)\n",
    "\n",
    "# Print RMSE\n",
    "print('Test set RMSE of gb: {:.3f}'.format(rmse_test_gb))"
   ]
  },
  {
   "cell_type": "code",
   "execution_count": 73,
   "metadata": {
    "scrolled": true
   },
   "outputs": [
    {
     "data": {
      "text/html": [
       "<div>\n",
       "<style scoped>\n",
       "    .dataframe tbody tr th:only-of-type {\n",
       "        vertical-align: middle;\n",
       "    }\n",
       "\n",
       "    .dataframe tbody tr th {\n",
       "        vertical-align: top;\n",
       "    }\n",
       "\n",
       "    .dataframe thead th {\n",
       "        text-align: right;\n",
       "    }\n",
       "</style>\n",
       "<table border=\"1\" class=\"dataframe\">\n",
       "  <thead>\n",
       "    <tr style=\"text-align: right;\">\n",
       "      <th></th>\n",
       "      <th>X1</th>\n",
       "      <th>X2</th>\n",
       "      <th>X4</th>\n",
       "      <th>X5</th>\n",
       "      <th>X6</th>\n",
       "      <th>X7</th>\n",
       "      <th>X8</th>\n",
       "      <th>X9</th>\n",
       "      <th>X13</th>\n",
       "      <th>X14</th>\n",
       "      <th>X19</th>\n",
       "      <th>X21</th>\n",
       "      <th>X22</th>\n",
       "      <th>X24</th>\n",
       "      <th>X27</th>\n",
       "      <th>X28</th>\n",
       "      <th>X29</th>\n",
       "      <th>X30</th>\n",
       "      <th>X31</th>\n",
       "    </tr>\n",
       "  </thead>\n",
       "  <tbody>\n",
       "    <tr>\n",
       "      <th>0</th>\n",
       "      <td>NaN</td>\n",
       "      <td>44409194</td>\n",
       "      <td>6000</td>\n",
       "      <td>6000</td>\n",
       "      <td>6000</td>\n",
       "      <td>36</td>\n",
       "      <td>2</td>\n",
       "      <td>14</td>\n",
       "      <td>68000</td>\n",
       "      <td>1</td>\n",
       "      <td>430</td>\n",
       "      <td>0.2831</td>\n",
       "      <td>0</td>\n",
       "      <td>1</td>\n",
       "      <td>18</td>\n",
       "      <td>0</td>\n",
       "      <td>19861</td>\n",
       "      <td>680.0</td>\n",
       "      <td>33</td>\n",
       "    </tr>\n",
       "    <tr>\n",
       "      <th>1</th>\n",
       "      <td>NaN</td>\n",
       "      <td>44017917</td>\n",
       "      <td>24000</td>\n",
       "      <td>24000</td>\n",
       "      <td>24000</td>\n",
       "      <td>36</td>\n",
       "      <td>0</td>\n",
       "      <td>0</td>\n",
       "      <td>110480</td>\n",
       "      <td>1</td>\n",
       "      <td>945</td>\n",
       "      <td>0.1603</td>\n",
       "      <td>0</td>\n",
       "      <td>1</td>\n",
       "      <td>12</td>\n",
       "      <td>0</td>\n",
       "      <td>17001</td>\n",
       "      <td>1104.8</td>\n",
       "      <td>36</td>\n",
       "    </tr>\n",
       "    <tr>\n",
       "      <th>2</th>\n",
       "      <td>NaN</td>\n",
       "      <td>44259158</td>\n",
       "      <td>35000</td>\n",
       "      <td>35000</td>\n",
       "      <td>35000</td>\n",
       "      <td>36</td>\n",
       "      <td>2</td>\n",
       "      <td>11</td>\n",
       "      <td>86000</td>\n",
       "      <td>1</td>\n",
       "      <td>195</td>\n",
       "      <td>0.3249</td>\n",
       "      <td>0</td>\n",
       "      <td>0</td>\n",
       "      <td>16</td>\n",
       "      <td>0</td>\n",
       "      <td>25797</td>\n",
       "      <td>860.0</td>\n",
       "      <td>33</td>\n",
       "    </tr>\n",
       "    <tr>\n",
       "      <th>3</th>\n",
       "      <td>NaN</td>\n",
       "      <td>44429213</td>\n",
       "      <td>10000</td>\n",
       "      <td>10000</td>\n",
       "      <td>10000</td>\n",
       "      <td>60</td>\n",
       "      <td>3</td>\n",
       "      <td>15</td>\n",
       "      <td>30000</td>\n",
       "      <td>1</td>\n",
       "      <td>921</td>\n",
       "      <td>0.3296</td>\n",
       "      <td>0</td>\n",
       "      <td>1</td>\n",
       "      <td>13</td>\n",
       "      <td>1</td>\n",
       "      <td>9586</td>\n",
       "      <td>300.0</td>\n",
       "      <td>21</td>\n",
       "    </tr>\n",
       "    <tr>\n",
       "      <th>4</th>\n",
       "      <td>NaN</td>\n",
       "      <td>44299188</td>\n",
       "      <td>24000</td>\n",
       "      <td>24000</td>\n",
       "      <td>24000</td>\n",
       "      <td>60</td>\n",
       "      <td>1</td>\n",
       "      <td>5</td>\n",
       "      <td>82500</td>\n",
       "      <td>1</td>\n",
       "      <td>196</td>\n",
       "      <td>0.3103</td>\n",
       "      <td>0</td>\n",
       "      <td>0</td>\n",
       "      <td>27</td>\n",
       "      <td>0</td>\n",
       "      <td>31842</td>\n",
       "      <td>825.0</td>\n",
       "      <td>43</td>\n",
       "    </tr>\n",
       "  </tbody>\n",
       "</table>\n",
       "</div>"
      ],
      "text/plain": [
       "   X1        X2     X4     X5     X6  X7  X8  X9     X13  X14  X19     X21  \\\n",
       "0 NaN  44409194   6000   6000   6000  36   2  14   68000    1  430  0.2831   \n",
       "1 NaN  44017917  24000  24000  24000  36   0   0  110480    1  945  0.1603   \n",
       "2 NaN  44259158  35000  35000  35000  36   2  11   86000    1  195  0.3249   \n",
       "3 NaN  44429213  10000  10000  10000  60   3  15   30000    1  921  0.3296   \n",
       "4 NaN  44299188  24000  24000  24000  60   1   5   82500    1  196  0.3103   \n",
       "\n",
       "   X22  X24  X27  X28    X29     X30  X31  \n",
       "0    0    1   18    0  19861   680.0   33  \n",
       "1    0    1   12    0  17001  1104.8   36  \n",
       "2    0    0   16    0  25797   860.0   33  \n",
       "3    0    1   13    1   9586   300.0   21  \n",
       "4    0    0   27    0  31842   825.0   43  "
      ]
     },
     "execution_count": 73,
     "metadata": {},
     "output_type": "execute_result"
    }
   ],
   "source": [
    "test.head()"
   ]
  },
  {
   "cell_type": "code",
   "execution_count": 74,
   "metadata": {},
   "outputs": [],
   "source": [
    "test_df = test.drop(['X1','X2'], axis=1)\n",
    "prediction_gb = gb.predict(test_df)"
   ]
  },
  {
   "cell_type": "code",
   "execution_count": 75,
   "metadata": {},
   "outputs": [],
   "source": [
    "submission = pd.DataFrame({'Loan ID': test['X2'], 'Predicted Rate' : prediction_gb})"
   ]
  },
  {
   "cell_type": "code",
   "execution_count": 76,
   "metadata": {},
   "outputs": [],
   "source": [
    "submission.to_csv('Loan Results from Gokturk Demir 12215218.csv', index=False)"
   ]
  },
  {
   "cell_type": "markdown",
   "metadata": {},
   "source": [
    "Gradient Boosting Regression model resulted the highest accuracy score with the lowest RMSE.So I used this model for my final submission.\n",
    "    A big advantage of the gradient boosting is, it builds trees one at a time, where each new tree helps to correct errors made by previously trained tree. With each tree added, the model becomes stronger in prediction.\n",
    "    One disadvantage of this model is that as it will continue to minimize errors,  this might over emphasize outliers and cause overfitting.And also the training takes longer because of the fact that trees are built sequentially."
   ]
  }
 ],
 "metadata": {
  "kernelspec": {
   "display_name": "Python 3",
   "language": "python",
   "name": "python3"
  },
  "language_info": {
   "codemirror_mode": {
    "name": "ipython",
    "version": 3
   },
   "file_extension": ".py",
   "mimetype": "text/x-python",
   "name": "python",
   "nbconvert_exporter": "python",
   "pygments_lexer": "ipython3",
   "version": "3.6.5"
  }
 },
 "nbformat": 4,
 "nbformat_minor": 2
}
